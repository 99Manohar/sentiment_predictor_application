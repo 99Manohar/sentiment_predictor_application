{
 "cells": [
  {
   "cell_type": "markdown",
   "id": "476c52fb",
   "metadata": {},
   "source": [
    "##                   Sentiment Analysis of Real-time Flipkart Product Reviews\n"
   ]
  },
  {
   "cell_type": "markdown",
   "id": "478327b7",
   "metadata": {},
   "source": [
    "###  Objective\n",
    "The objective of this project is to classify customer reviews as positive or negative and understand the pain points of customers who write negative reviews. By analyzing the sentiment of reviews, we aim to gain insights into product features that contribute to customer satisfaction or dissatisfaction.\n"
   ]
  },
  {
   "cell_type": "markdown",
   "id": "b3d6125f",
   "metadata": {},
   "source": [
    "### Modeling Approach\n",
    "1. Model Selection: Train and evaluate various machine learning and deep learning models using the embedded text data.\n",
    "2. Evaluation Metric: Use the F1-Score as the evaluation metric to assess the performance of the models in classifying sentiment.\n"
   ]
  },
  {
   "cell_type": "markdown",
   "id": "ad7b1c23",
   "metadata": {},
   "source": [
    "\n",
    " ### 1.Text Cleaning: Remove special characters, punctuation, and stopwords from the review text.\n"
   ]
  },
  {
   "cell_type": "code",
   "execution_count": 89,
   "id": "fb9331d2",
   "metadata": {},
   "outputs": [],
   "source": [
    "import numpy as np\n",
    "import pandas as pd\n",
    "import matplotlib.pyplot as plt\n",
    "import seaborn as sns"
   ]
  },
  {
   "cell_type": "code",
   "execution_count": 90,
   "id": "00e917ff",
   "metadata": {},
   "outputs": [],
   "source": [
    "df = pd.read_csv(\"data.csv\")"
   ]
  },
  {
   "cell_type": "code",
   "execution_count": 91,
   "id": "f2a11c81",
   "metadata": {},
   "outputs": [
    {
     "data": {
      "text/html": [
       "<div>\n",
       "<style scoped>\n",
       "    .dataframe tbody tr th:only-of-type {\n",
       "        vertical-align: middle;\n",
       "    }\n",
       "\n",
       "    .dataframe tbody tr th {\n",
       "        vertical-align: top;\n",
       "    }\n",
       "\n",
       "    .dataframe thead th {\n",
       "        text-align: right;\n",
       "    }\n",
       "</style>\n",
       "<table border=\"1\" class=\"dataframe\">\n",
       "  <thead>\n",
       "    <tr style=\"text-align: right;\">\n",
       "      <th></th>\n",
       "      <th>Reviewer Name</th>\n",
       "      <th>Review Title</th>\n",
       "      <th>Place of Review</th>\n",
       "      <th>Up Votes</th>\n",
       "      <th>Down Votes</th>\n",
       "      <th>Month</th>\n",
       "      <th>Review text</th>\n",
       "      <th>Ratings</th>\n",
       "    </tr>\n",
       "  </thead>\n",
       "  <tbody>\n",
       "    <tr>\n",
       "      <th>0</th>\n",
       "      <td>Kamal Suresh</td>\n",
       "      <td>Nice product</td>\n",
       "      <td>Certified Buyer, Chirakkal</td>\n",
       "      <td>889.0</td>\n",
       "      <td>64.0</td>\n",
       "      <td>Feb 2021</td>\n",
       "      <td>Nice product, good quality, but price is now r...</td>\n",
       "      <td>4</td>\n",
       "    </tr>\n",
       "    <tr>\n",
       "      <th>1</th>\n",
       "      <td>Flipkart Customer</td>\n",
       "      <td>Don't waste your money</td>\n",
       "      <td>Certified Buyer, Hyderabad</td>\n",
       "      <td>109.0</td>\n",
       "      <td>6.0</td>\n",
       "      <td>Feb 2021</td>\n",
       "      <td>They didn't supplied Yonex Mavis 350. Outside ...</td>\n",
       "      <td>1</td>\n",
       "    </tr>\n",
       "    <tr>\n",
       "      <th>2</th>\n",
       "      <td>A. S. Raja Srinivasan</td>\n",
       "      <td>Did not meet expectations</td>\n",
       "      <td>Certified Buyer, Dharmapuri</td>\n",
       "      <td>42.0</td>\n",
       "      <td>3.0</td>\n",
       "      <td>Apr 2021</td>\n",
       "      <td>Worst product. Damaged shuttlecocks packed in ...</td>\n",
       "      <td>1</td>\n",
       "    </tr>\n",
       "  </tbody>\n",
       "</table>\n",
       "</div>"
      ],
      "text/plain": [
       "            Reviewer Name               Review Title  \\\n",
       "0            Kamal Suresh               Nice product   \n",
       "1       Flipkart Customer     Don't waste your money   \n",
       "2  A. S. Raja Srinivasan   Did not meet expectations   \n",
       "\n",
       "               Place of Review  Up Votes  Down Votes     Month  \\\n",
       "0   Certified Buyer, Chirakkal     889.0        64.0  Feb 2021   \n",
       "1   Certified Buyer, Hyderabad     109.0         6.0  Feb 2021   \n",
       "2  Certified Buyer, Dharmapuri      42.0         3.0  Apr 2021   \n",
       "\n",
       "                                         Review text  Ratings  \n",
       "0  Nice product, good quality, but price is now r...        4  \n",
       "1  They didn't supplied Yonex Mavis 350. Outside ...        1  \n",
       "2  Worst product. Damaged shuttlecocks packed in ...        1  "
      ]
     },
     "execution_count": 91,
     "metadata": {},
     "output_type": "execute_result"
    }
   ],
   "source": [
    "df.head(3)"
   ]
  },
  {
   "cell_type": "code",
   "execution_count": 92,
   "id": "de447c68",
   "metadata": {},
   "outputs": [
    {
     "name": "stdout",
     "output_type": "stream",
     "text": [
      "<class 'pandas.core.frame.DataFrame'>\n",
      "RangeIndex: 8518 entries, 0 to 8517\n",
      "Data columns (total 8 columns):\n",
      " #   Column           Non-Null Count  Dtype  \n",
      "---  ------           --------------  -----  \n",
      " 0   Reviewer Name    8508 non-null   object \n",
      " 1   Review Title     8508 non-null   object \n",
      " 2   Place of Review  8468 non-null   object \n",
      " 3   Up Votes         8508 non-null   float64\n",
      " 4   Down Votes       8508 non-null   float64\n",
      " 5   Month            8053 non-null   object \n",
      " 6   Review text      8510 non-null   object \n",
      " 7   Ratings          8518 non-null   int64  \n",
      "dtypes: float64(2), int64(1), object(5)\n",
      "memory usage: 532.5+ KB\n"
     ]
    }
   ],
   "source": [
    "df.info()"
   ]
  },
  {
   "cell_type": "code",
   "execution_count": 93,
   "id": "e51ea6cd",
   "metadata": {},
   "outputs": [],
   "source": [
    "df['Review text'].fillna(df['Review text'].mode()[0],inplace=True)"
   ]
  },
  {
   "cell_type": "code",
   "execution_count": 94,
   "id": "1f317624",
   "metadata": {},
   "outputs": [
    {
     "data": {
      "text/html": [
       "<div>\n",
       "<style scoped>\n",
       "    .dataframe tbody tr th:only-of-type {\n",
       "        vertical-align: middle;\n",
       "    }\n",
       "\n",
       "    .dataframe tbody tr th {\n",
       "        vertical-align: top;\n",
       "    }\n",
       "\n",
       "    .dataframe thead th {\n",
       "        text-align: right;\n",
       "    }\n",
       "</style>\n",
       "<table border=\"1\" class=\"dataframe\">\n",
       "  <thead>\n",
       "    <tr style=\"text-align: right;\">\n",
       "      <th></th>\n",
       "      <th>Review text</th>\n",
       "    </tr>\n",
       "  </thead>\n",
       "  <tbody>\n",
       "    <tr>\n",
       "      <th>8515</th>\n",
       "      <td>GoodREAD MORE</td>\n",
       "    </tr>\n",
       "    <tr>\n",
       "      <th>8516</th>\n",
       "      <td>GoodREAD MORE</td>\n",
       "    </tr>\n",
       "    <tr>\n",
       "      <th>8517</th>\n",
       "      <td>GoodREAD MORE</td>\n",
       "    </tr>\n",
       "  </tbody>\n",
       "</table>\n",
       "</div>"
      ],
      "text/plain": [
       "        Review text\n",
       "8515  GoodREAD MORE\n",
       "8516  GoodREAD MORE\n",
       "8517  GoodREAD MORE"
      ]
     },
     "execution_count": 94,
     "metadata": {},
     "output_type": "execute_result"
    }
   ],
   "source": [
    "df[['Review text']].tail(3)"
   ]
  },
  {
   "cell_type": "code",
   "execution_count": 95,
   "id": "239f358f",
   "metadata": {},
   "outputs": [
    {
     "data": {
      "text/plain": [
       "5    5080\n",
       "4    1746\n",
       "1     769\n",
       "3     615\n",
       "2     308\n",
       "Name: Ratings, dtype: int64"
      ]
     },
     "execution_count": 95,
     "metadata": {},
     "output_type": "execute_result"
    }
   ],
   "source": [
    "df['Ratings'].value_counts()"
   ]
  },
  {
   "cell_type": "code",
   "execution_count": 96,
   "id": "9a652019",
   "metadata": {},
   "outputs": [
    {
     "data": {
      "text/plain": [
       "4"
      ]
     },
     "execution_count": 96,
     "metadata": {},
     "output_type": "execute_result"
    }
   ],
   "source": [
    "df.duplicated().sum()"
   ]
  },
  {
   "cell_type": "code",
   "execution_count": 97,
   "id": "9f651cef",
   "metadata": {},
   "outputs": [],
   "source": [
    "df = df.drop_duplicates()"
   ]
  },
  {
   "cell_type": "code",
   "execution_count": null,
   "id": "e5314683",
   "metadata": {},
   "outputs": [],
   "source": []
  },
  {
   "cell_type": "code",
   "execution_count": null,
   "id": "421bd53f",
   "metadata": {},
   "outputs": [],
   "source": []
  },
  {
   "cell_type": "code",
   "execution_count": 98,
   "id": "3bc48ebe",
   "metadata": {},
   "outputs": [],
   "source": [
    "# Define the classify_review function\n",
    "def classify_review(rating):\n",
    "    if rating >= 3:\n",
    "        return 'Positive'\n",
    "    else:\n",
    "        return 'Negative'\n",
    "\n"
   ]
  },
  {
   "cell_type": "code",
   "execution_count": 99,
   "id": "49316262",
   "metadata": {},
   "outputs": [],
   "source": [
    "df['Ratings'] = df['Ratings'].apply(classify_review)"
   ]
  },
  {
   "cell_type": "markdown",
   "id": "e42f4c21",
   "metadata": {},
   "source": [
    "### Input variable & Output variable"
   ]
  },
  {
   "cell_type": "code",
   "execution_count": 100,
   "id": "a1b08551",
   "metadata": {},
   "outputs": [],
   "source": [
    "#Independent variable\n",
    "x=df[[\"Review text\"]]"
   ]
  },
  {
   "cell_type": "code",
   "execution_count": 101,
   "id": "8b1e81ba",
   "metadata": {},
   "outputs": [
    {
     "data": {
      "text/html": [
       "<div>\n",
       "<style scoped>\n",
       "    .dataframe tbody tr th:only-of-type {\n",
       "        vertical-align: middle;\n",
       "    }\n",
       "\n",
       "    .dataframe tbody tr th {\n",
       "        vertical-align: top;\n",
       "    }\n",
       "\n",
       "    .dataframe thead th {\n",
       "        text-align: right;\n",
       "    }\n",
       "</style>\n",
       "<table border=\"1\" class=\"dataframe\">\n",
       "  <thead>\n",
       "    <tr style=\"text-align: right;\">\n",
       "      <th></th>\n",
       "      <th>Review text</th>\n",
       "    </tr>\n",
       "  </thead>\n",
       "  <tbody>\n",
       "    <tr>\n",
       "      <th>0</th>\n",
       "      <td>Nice product, good quality, but price is now r...</td>\n",
       "    </tr>\n",
       "    <tr>\n",
       "      <th>1</th>\n",
       "      <td>They didn't supplied Yonex Mavis 350. Outside ...</td>\n",
       "    </tr>\n",
       "    <tr>\n",
       "      <th>2</th>\n",
       "      <td>Worst product. Damaged shuttlecocks packed in ...</td>\n",
       "    </tr>\n",
       "    <tr>\n",
       "      <th>3</th>\n",
       "      <td>Quite O. K. , but nowadays  the quality of the...</td>\n",
       "    </tr>\n",
       "    <tr>\n",
       "      <th>4</th>\n",
       "      <td>Over pricedJust â?¹620 ..from retailer.I didn'...</td>\n",
       "    </tr>\n",
       "    <tr>\n",
       "      <th>...</th>\n",
       "      <td>...</td>\n",
       "    </tr>\n",
       "    <tr>\n",
       "      <th>8509</th>\n",
       "      <td>Not sure why we have charged for this product ...</td>\n",
       "    </tr>\n",
       "    <tr>\n",
       "      <th>8510</th>\n",
       "      <td>GoodREAD MORE</td>\n",
       "    </tr>\n",
       "    <tr>\n",
       "      <th>8512</th>\n",
       "      <td>GoodREAD MORE</td>\n",
       "    </tr>\n",
       "    <tr>\n",
       "      <th>8513</th>\n",
       "      <td>GoodREAD MORE</td>\n",
       "    </tr>\n",
       "    <tr>\n",
       "      <th>8515</th>\n",
       "      <td>GoodREAD MORE</td>\n",
       "    </tr>\n",
       "  </tbody>\n",
       "</table>\n",
       "<p>8514 rows × 1 columns</p>\n",
       "</div>"
      ],
      "text/plain": [
       "                                            Review text\n",
       "0     Nice product, good quality, but price is now r...\n",
       "1     They didn't supplied Yonex Mavis 350. Outside ...\n",
       "2     Worst product. Damaged shuttlecocks packed in ...\n",
       "3     Quite O. K. , but nowadays  the quality of the...\n",
       "4     Over pricedJust â?¹620 ..from retailer.I didn'...\n",
       "...                                                 ...\n",
       "8509  Not sure why we have charged for this product ...\n",
       "8510                                      GoodREAD MORE\n",
       "8512                                      GoodREAD MORE\n",
       "8513                                      GoodREAD MORE\n",
       "8515                                      GoodREAD MORE\n",
       "\n",
       "[8514 rows x 1 columns]"
      ]
     },
     "execution_count": 101,
     "metadata": {},
     "output_type": "execute_result"
    }
   ],
   "source": [
    "x"
   ]
  },
  {
   "cell_type": "code",
   "execution_count": 102,
   "id": "6f8df8a9",
   "metadata": {},
   "outputs": [],
   "source": [
    "#Dependent variable\n",
    "y=df[[\"Ratings\"]]"
   ]
  },
  {
   "cell_type": "code",
   "execution_count": 103,
   "id": "503fc634",
   "metadata": {},
   "outputs": [
    {
     "data": {
      "text/html": [
       "<div>\n",
       "<style scoped>\n",
       "    .dataframe tbody tr th:only-of-type {\n",
       "        vertical-align: middle;\n",
       "    }\n",
       "\n",
       "    .dataframe tbody tr th {\n",
       "        vertical-align: top;\n",
       "    }\n",
       "\n",
       "    .dataframe thead th {\n",
       "        text-align: right;\n",
       "    }\n",
       "</style>\n",
       "<table border=\"1\" class=\"dataframe\">\n",
       "  <thead>\n",
       "    <tr style=\"text-align: right;\">\n",
       "      <th></th>\n",
       "      <th>Ratings</th>\n",
       "    </tr>\n",
       "  </thead>\n",
       "  <tbody>\n",
       "    <tr>\n",
       "      <th>0</th>\n",
       "      <td>Positive</td>\n",
       "    </tr>\n",
       "    <tr>\n",
       "      <th>1</th>\n",
       "      <td>Negative</td>\n",
       "    </tr>\n",
       "    <tr>\n",
       "      <th>2</th>\n",
       "      <td>Negative</td>\n",
       "    </tr>\n",
       "    <tr>\n",
       "      <th>3</th>\n",
       "      <td>Positive</td>\n",
       "    </tr>\n",
       "    <tr>\n",
       "      <th>4</th>\n",
       "      <td>Negative</td>\n",
       "    </tr>\n",
       "    <tr>\n",
       "      <th>...</th>\n",
       "      <td>...</td>\n",
       "    </tr>\n",
       "    <tr>\n",
       "      <th>8509</th>\n",
       "      <td>Negative</td>\n",
       "    </tr>\n",
       "    <tr>\n",
       "      <th>8510</th>\n",
       "      <td>Negative</td>\n",
       "    </tr>\n",
       "    <tr>\n",
       "      <th>8512</th>\n",
       "      <td>Negative</td>\n",
       "    </tr>\n",
       "    <tr>\n",
       "      <th>8513</th>\n",
       "      <td>Positive</td>\n",
       "    </tr>\n",
       "    <tr>\n",
       "      <th>8515</th>\n",
       "      <td>Positive</td>\n",
       "    </tr>\n",
       "  </tbody>\n",
       "</table>\n",
       "<p>8514 rows × 1 columns</p>\n",
       "</div>"
      ],
      "text/plain": [
       "       Ratings\n",
       "0     Positive\n",
       "1     Negative\n",
       "2     Negative\n",
       "3     Positive\n",
       "4     Negative\n",
       "...        ...\n",
       "8509  Negative\n",
       "8510  Negative\n",
       "8512  Negative\n",
       "8513  Positive\n",
       "8515  Positive\n",
       "\n",
       "[8514 rows x 1 columns]"
      ]
     },
     "execution_count": 103,
     "metadata": {},
     "output_type": "execute_result"
    }
   ],
   "source": [
    "y"
   ]
  },
  {
   "cell_type": "markdown",
   "id": "80184ad8",
   "metadata": {},
   "source": [
    "###  Splitting the data into training and testing data"
   ]
  },
  {
   "cell_type": "code",
   "execution_count": 104,
   "id": "ef15fa00",
   "metadata": {},
   "outputs": [],
   "source": [
    "from sklearn.model_selection import train_test_split"
   ]
  },
  {
   "cell_type": "code",
   "execution_count": 105,
   "id": "c6d5269b",
   "metadata": {},
   "outputs": [],
   "source": [
    "x_train,x_test,y_train,y_test = train_test_split(x,y,train_size = 0.8,random_state=35)"
   ]
  },
  {
   "cell_type": "markdown",
   "id": "d2d8d09c",
   "metadata": {},
   "source": [
    "###  2. Text Normalization: Perform lemmatization or stemming to reduce words to their base forms."
   ]
  },
  {
   "cell_type": "code",
   "execution_count": 106,
   "id": "278da835",
   "metadata": {},
   "outputs": [],
   "source": [
    "import re\n",
    "import nltk\n",
    "from nltk.tokenize import word_tokenize\n",
    "from nltk.corpus import stopwords\n",
    "from nltk.stem import PorterStemmer\n",
    "from nltk.stem import WordNetLemmatizer"
   ]
  },
  {
   "cell_type": "code",
   "execution_count": 107,
   "id": "81453c28",
   "metadata": {},
   "outputs": [],
   "source": [
    "stem = PorterStemmer()"
   ]
  },
  {
   "cell_type": "code",
   "execution_count": 108,
   "id": "ef80ffa0",
   "metadata": {},
   "outputs": [],
   "source": [
    "lemma = WordNetLemmatizer()"
   ]
  },
  {
   "cell_type": "code",
   "execution_count": 109,
   "id": "17ae9d11",
   "metadata": {},
   "outputs": [],
   "source": [
    "import re\n",
    "def preprocess(data):\n",
    "    \n",
    "    # removes special characters\n",
    "    sentence = re.sub(\"[^a-zA-Z]\",\" \",data)\n",
    "    \n",
    "    # converts words to lowercase\n",
    "    sentence = sentence.lower()\n",
    "    \n",
    "    # tokenization\n",
    "    sentence = sentence.split()\n",
    "    \n",
    "    #removes the stop words\n",
    "    sentence = [word for word in sentence if word not in stopwords.words('english')]\n",
    "    \n",
    "    # can apply stem or lemm\n",
    "    # applying lemmatization\n",
    "    sentence = [lemma.lemmatize(word) for word in sentence]\n",
    "    \n",
    "    sentence=  \" \".join(sentence)\n",
    "    \n",
    "    return sentence"
   ]
  },
  {
   "cell_type": "code",
   "execution_count": 110,
   "id": "11ce4951",
   "metadata": {},
   "outputs": [],
   "source": [
    "#applying preprocessing on test_data\n",
    "x_train= x_train['Review text'].apply(preprocess)"
   ]
  },
  {
   "cell_type": "code",
   "execution_count": 111,
   "id": "e90cc0be",
   "metadata": {},
   "outputs": [
    {
     "data": {
      "text/plain": [
       "337                                     good shutles read\n",
       "3460                                               okread\n",
       "4793                                              badread\n",
       "7747    good quality delivered earlier expected date read\n",
       "5333                               okay okay shuttlesread\n",
       "                              ...                        \n",
       "3321                             great perfect defectread\n",
       "3007                                     quality goodread\n",
       "7148    shuttle good feather shuttle flight life good ...\n",
       "1295                                 good shuttlecockread\n",
       "5833                                     nice productread\n",
       "Name: Review text, Length: 6811, dtype: object"
      ]
     },
     "execution_count": 111,
     "metadata": {},
     "output_type": "execute_result"
    }
   ],
   "source": [
    "x_train"
   ]
  },
  {
   "cell_type": "code",
   "execution_count": 112,
   "id": "378bdc89",
   "metadata": {},
   "outputs": [],
   "source": [
    "#applying preprocessing on test_data\n",
    "x_test = x_test['Review text'].apply(preprocess)"
   ]
  },
  {
   "cell_type": "code",
   "execution_count": null,
   "id": "cb9cd5c8",
   "metadata": {},
   "outputs": [],
   "source": []
  },
  {
   "cell_type": "code",
   "execution_count": 113,
   "id": "704dd78b",
   "metadata": {},
   "outputs": [
    {
     "name": "stdout",
     "output_type": "stream",
     "text": [
      "    Ratings\n",
      "0  Negative\n",
      "1  Negative\n",
      "2  Positive\n",
      "3  Positive\n",
      "4  Positive\n"
     ]
    }
   ],
   "source": [
    "import pandas as pd\n",
    "\n",
    "# Sample DataFrame\n",
    "data = {'Ratings': ['1', '2', '3', '4', '5']}\n",
    "df = pd.DataFrame(data)\n",
    "\n",
    "# Convert the 'Ratings' column to numeric type\n",
    "df['Ratings'] = pd.to_numeric(df['Ratings'])\n",
    "\n",
    "# Define the classify_review function\n",
    "def classify_review(rating):\n",
    "    if rating >= 3.0:\n",
    "        return 'Positive'\n",
    "    else:\n",
    "        return 'Negative'\n",
    "\n",
    "# Apply the classify_review function to the 'Ratings' column\n",
    "df['Ratings'] = df['Ratings'].apply(classify_review)\n",
    "\n",
    "# Display the DataFrame with the added 'Sentiment' column\n",
    "print(df)\n"
   ]
  },
  {
   "cell_type": "markdown",
   "id": "078ff488",
   "metadata": {},
   "source": [
    "###  3. Numerical Feature Extraction: Apply techniques like Bag-of-Words (BoW), Term Frequency-Inverse    Document Frequency (TF-IDF), Word2Vec (W2V), and BERT models for feature extraction.\n"
   ]
  },
  {
   "cell_type": "code",
   "execution_count": 114,
   "id": "2359afc7",
   "metadata": {},
   "outputs": [
    {
     "name": "stdout",
     "output_type": "stream",
     "text": [
      "Wall time: 31.9 ms\n"
     ]
    }
   ],
   "source": [
    "from sklearn.feature_extraction.text import CountVectorizer\n",
    "cv = CountVectorizer()\n",
    "%time x_train_num = cv.fit_transform(x_train)"
   ]
  },
  {
   "cell_type": "code",
   "execution_count": 115,
   "id": "4ecc921d",
   "metadata": {},
   "outputs": [
    {
     "name": "stdout",
     "output_type": "stream",
     "text": [
      "Wall time: 6.71 ms\n"
     ]
    }
   ],
   "source": [
    "%time x_test_num = cv.transform(x_test)"
   ]
  },
  {
   "cell_type": "markdown",
   "id": "f18c9ffd",
   "metadata": {},
   "source": [
    "### Building a model"
   ]
  },
  {
   "cell_type": "code",
   "execution_count": 116,
   "id": "0752a6a5",
   "metadata": {},
   "outputs": [],
   "source": [
    "from sklearn.naive_bayes import MultinomialNB\n",
    "nb_model= MultinomialNB()\n"
   ]
  },
  {
   "cell_type": "code",
   "execution_count": 117,
   "id": "9da31ab6",
   "metadata": {},
   "outputs": [
    {
     "data": {
      "text/plain": [
       "MultinomialNB()"
      ]
     },
     "execution_count": 117,
     "metadata": {},
     "output_type": "execute_result"
    }
   ],
   "source": [
    "nb_model.fit(x_train_num,y_train)"
   ]
  },
  {
   "cell_type": "code",
   "execution_count": 118,
   "id": "d7ed5086",
   "metadata": {},
   "outputs": [
    {
     "data": {
      "text/plain": [
       "(6811, 2667)"
      ]
     },
     "execution_count": 118,
     "metadata": {},
     "output_type": "execute_result"
    }
   ],
   "source": [
    "x_train_num.shape"
   ]
  },
  {
   "cell_type": "code",
   "execution_count": 119,
   "id": "abf58246",
   "metadata": {},
   "outputs": [
    {
     "data": {
      "text/plain": [
       "(6811, 1)"
      ]
     },
     "execution_count": 119,
     "metadata": {},
     "output_type": "execute_result"
    }
   ],
   "source": [
    "y_train.shape"
   ]
  },
  {
   "cell_type": "markdown",
   "id": "265d46a3",
   "metadata": {},
   "source": [
    "### Evaluation"
   ]
  },
  {
   "cell_type": "code",
   "execution_count": 120,
   "id": "773f5f4f",
   "metadata": {},
   "outputs": [],
   "source": [
    "from sklearn.metrics import accuracy_score,confusion_matrix"
   ]
  },
  {
   "cell_type": "code",
   "execution_count": 121,
   "id": "0e60ee2d",
   "metadata": {},
   "outputs": [],
   "source": [
    "y_train_pred = nb_model.predict(x_train_num)"
   ]
  },
  {
   "cell_type": "code",
   "execution_count": 122,
   "id": "8e3bbe5b",
   "metadata": {},
   "outputs": [
    {
     "data": {
      "text/plain": [
       "array(['Positive', 'Positive', 'Positive', ..., 'Positive', 'Positive',\n",
       "       'Positive'], dtype='<U8')"
      ]
     },
     "execution_count": 122,
     "metadata": {},
     "output_type": "execute_result"
    }
   ],
   "source": [
    "y_train_pred"
   ]
  },
  {
   "cell_type": "code",
   "execution_count": 123,
   "id": "f3399bfc",
   "metadata": {},
   "outputs": [],
   "source": [
    "train_score=accuracy_score(y_train,y_train_pred)"
   ]
  },
  {
   "cell_type": "code",
   "execution_count": 124,
   "id": "9c8c22e5",
   "metadata": {},
   "outputs": [
    {
     "data": {
      "text/plain": [
       "0.931874908236676"
      ]
     },
     "execution_count": 124,
     "metadata": {},
     "output_type": "execute_result"
    }
   ],
   "source": [
    "train_score"
   ]
  },
  {
   "cell_type": "code",
   "execution_count": 125,
   "id": "953c2330",
   "metadata": {},
   "outputs": [],
   "source": [
    "y_pred=nb_model.predict(x_test_num)"
   ]
  },
  {
   "cell_type": "code",
   "execution_count": 126,
   "id": "944d0b1e",
   "metadata": {},
   "outputs": [
    {
     "data": {
      "text/plain": [
       "array(['Positive', 'Positive', 'Negative', ..., 'Positive', 'Positive',\n",
       "       'Positive'], dtype='<U8')"
      ]
     },
     "execution_count": 126,
     "metadata": {},
     "output_type": "execute_result"
    }
   ],
   "source": [
    "y_pred"
   ]
  },
  {
   "cell_type": "code",
   "execution_count": 127,
   "id": "2892d60f",
   "metadata": {},
   "outputs": [],
   "source": [
    "test_score=accuracy_score(y_pred,y_test)"
   ]
  },
  {
   "cell_type": "code",
   "execution_count": 128,
   "id": "7225ce88",
   "metadata": {},
   "outputs": [
    {
     "data": {
      "text/plain": [
       "0.9242513211978861"
      ]
     },
     "execution_count": 128,
     "metadata": {},
     "output_type": "execute_result"
    }
   ],
   "source": [
    "test_score"
   ]
  },
  {
   "cell_type": "code",
   "execution_count": 129,
   "id": "49ee10c3",
   "metadata": {},
   "outputs": [
    {
     "data": {
      "text/plain": [
       "array([[ 509,  357],\n",
       "       [ 107, 5838]], dtype=int64)"
      ]
     },
     "execution_count": 129,
     "metadata": {},
     "output_type": "execute_result"
    }
   ],
   "source": [
    "confusion_matrix(y_train, y_train_pred)"
   ]
  },
  {
   "cell_type": "code",
   "execution_count": 130,
   "id": "1a7a8122",
   "metadata": {},
   "outputs": [
    {
     "data": {
      "text/plain": [
       "Text(0.5, 23.52222222222222, 'Predicted')"
      ]
     },
     "execution_count": 130,
     "metadata": {},
     "output_type": "execute_result"
    },
    {
     "data": {
      "image/png": "[encoded data removed]",
      "text/plain": [
       "<Figure size 640x480 with 2 Axes>"
      ]
     },
     "metadata": {},
     "output_type": "display_data"
    }
   ],
   "source": [
    "import numpy as np\n",
    "import seaborn as sns\n",
    "import matplotlib.pyplot as plt\n",
    "\n",
    "cm = confusion_matrix(y_train, y_train_pred)\n",
    "actual = np.sum(cm, axis=1).reshape(-1, 1)\n",
    "cmn = np.round(cm/actual, 2)\n",
    "\n",
    "sns.heatmap(cmn, annot=True, fmt='.2f', xticklabels=nb_model.classes_, yticklabels=nb_model.classes_)\n",
    "plt.ylabel('Actual')\n",
    "plt.xlabel('Predicted')"
   ]
  },
  {
   "cell_type": "code",
   "execution_count": 131,
   "id": "8f97ab2b",
   "metadata": {},
   "outputs": [
    {
     "data": {
      "text/plain": [
       "Text(0.5, 23.52222222222222, 'Predicted')"
      ]
     },
     "execution_count": 131,
     "metadata": {},
     "output_type": "execute_result"
    },
    {
     "data": {
      "image/png": "[encoded data removed]",
      "text/plain": [
       "<Figure size 640x480 with 2 Axes>"
      ]
     },
     "metadata": {},
     "output_type": "display_data"
    }
   ],
   "source": [
    "cm = confusion_matrix(y_pred,y_test)\n",
    "actual = np.sum(cm, axis=1).reshape(-1, 1)\n",
    "cmn = np.round(cm/actual, 2)\n",
    "\n",
    "sns.heatmap(cmn, annot=True, fmt='.2f', xticklabels=nb_model.classes_, yticklabels=nb_model.classes_)\n",
    "plt.ylabel('Actual')\n",
    "plt.xlabel('Predicted')"
   ]
  },
  {
   "cell_type": "code",
   "execution_count": 142,
   "id": "956b62f5",
   "metadata": {},
   "outputs": [],
   "source": [
    "from joblib import Memory\n",
    "from sklearn.pipeline import Pipeline\n",
    "from sklearn.feature_extraction.text import CountVectorizer, TfidfVectorizer\n",
    "from sklearn.naive_bayes import MultinomialNB\n",
    "from sklearn.tree import DecisionTreeClassifier\n",
    "from sklearn.linear_model import LogisticRegression\n",
    "from sklearn.model_selection import GridSearchCV\n",
    "from gensim.models import Word2Vec"
   ]
  },
  {
   "cell_type": "code",
   "execution_count": 143,
   "id": "8bd3cbd1",
   "metadata": {},
   "outputs": [],
   "source": [
    "import warnings\n",
    "\n",
    "warnings.filterwarnings('ignore')"
   ]
  },
  {
   "cell_type": "code",
   "execution_count": 144,
   "id": "7344ff5e",
   "metadata": {},
   "outputs": [
    {
     "name": "stdout",
     "output_type": "stream",
     "text": [
      "********** naive_bayes **********\n",
      "Fitting 5 folds for each of 8 candidates, totalling 40 fits\n",
      "F1 Score on Test Data: 0.9548302011210024\n",
      "********** decision_tree **********\n",
      "Fitting 5 folds for each of 24 candidates, totalling 120 fits\n",
      "F1 Score on Test Data: 0.9403884795713329\n",
      "********** logistic_regression **********\n",
      "Fitting 5 folds for each of 72 candidates, totalling 360 fits\n",
      "F1 Score on Test Data: 0.9360525406152783\n"
     ]
    }
   ],
   "source": [
    "from sklearn.metrics import f1_score\n",
    "cachedir = '.cache'\n",
    "memory = Memory(location=cachedir, verbose=0)\n",
    "\n",
    "pipelines = {\n",
    "    'naive_bayes': Pipeline([\n",
    "        ('vectorization', CountVectorizer()),\n",
    "        ('classifier', MultinomialNB())\n",
    "    ], memory=memory),\n",
    "    'decision_tree': Pipeline([\n",
    "        ('vectorization', CountVectorizer()),\n",
    "        ('classifier', DecisionTreeClassifier())\n",
    "    ], memory=memory),\n",
    "    'logistic_regression': Pipeline([\n",
    "        ('vectorization', CountVectorizer()),\n",
    "        ('classifier', LogisticRegression())\n",
    "    ], memory=memory)\n",
    "}\n",
    "\n",
    "# Define parameter grid for each algorithm\n",
    "param_grids = {\n",
    "    'naive_bayes': [\n",
    "        {\n",
    "            'vectorization': [CountVectorizer()],\n",
    "            'vectorization__max_features' : [1000, 1500, 2000, 5000], \n",
    "            'classifier__alpha' : [1, 10]\n",
    "        }\n",
    "    ],\n",
    "    'decision_tree': [\n",
    "        {\n",
    "        'vectorization': [CountVectorizer(),TfidfVectorizer()],\n",
    "            'vectorization__max_features' : [1000, 1500, 2000, 5000],\n",
    "            'classifier__max_depth': [None, 5, 10]\n",
    "        }\n",
    "    ],\n",
    "    'logistic_regression': [\n",
    "        {\n",
    "            'vectorization': [CountVectorizer(), TfidfVectorizer()],\n",
    "            'vectorization__max_features' : [1000, 1500, 2000, 5000], \n",
    "            'classifier__C': [0.1, 1, 10], \n",
    "            'classifier__penalty': ['elasticnet'], \n",
    "            'classifier__l1_ratio': [0.4, 0.5, 0.6],\n",
    "            'classifier__solver': ['saga'],\n",
    "            'classifier__class_weight': ['balanced']\n",
    "        }\n",
    "    ]\n",
    "}\n",
    "\n",
    "# Perform GridSearchCV for each algorithm\n",
    "best_models = {}\n",
    "\n",
    "for algo in pipelines.keys():\n",
    "    print(\"*\" * 10, algo, \"*\" * 10)\n",
    "    grid_search = GridSearchCV(estimator=pipelines[algo], \n",
    "                               param_grid=param_grids[algo], \n",
    "                               cv=5, \n",
    "                               scoring='f1',  \n",
    "                               return_train_score=True,\n",
    "                               verbose=1)\n",
    "    grid_search.fit(x_train, y_train)\n",
    "    best_models[algo] = grid_search.best_estimator_\n",
    "#     print('Score on Test Data:', grid_search.score(x_test, y_test, pos_label='Positive'))\n",
    "    y_pred = grid_search.best_estimator_.predict(x_test)\n",
    "    f1 = f1_score(y_test, y_pred, pos_label='Positive')  \n",
    "    print('F1 Score on Test Data:', f1)"
   ]
  },
  {
   "cell_type": "code",
   "execution_count": 145,
   "id": "b4df5176",
   "metadata": {},
   "outputs": [
    {
     "name": "stdout",
     "output_type": "stream",
     "text": [
      "naive_bayes\n",
      "Pipeline(memory=Memory(location=.cache\\joblib),\n",
      "         steps=[('vectorization', CountVectorizer(max_features=1000)),\n",
      "                ('classifier', MultinomialNB(alpha=1))])\n",
      "\n",
      "decision_tree\n",
      "Pipeline(memory=Memory(location=.cache\\joblib),\n",
      "         steps=[('vectorization', CountVectorizer(max_features=1000)),\n",
      "                ('classifier', DecisionTreeClassifier())])\n",
      "\n",
      "logistic_regression\n",
      "Pipeline(memory=Memory(location=.cache\\joblib),\n",
      "         steps=[('vectorization', CountVectorizer(max_features=1000)),\n",
      "                ('classifier',\n",
      "                 LogisticRegression(C=0.1, class_weight='balanced',\n",
      "                                    l1_ratio=0.4, penalty='elasticnet',\n",
      "                                    solver='saga'))])\n",
      "\n"
     ]
    }
   ],
   "source": [
    "for name, model in best_models.items():\n",
    "    print(f\"{name}\")\n",
    "    print(f\"{model}\")\n",
    "    print()"
   ]
  },
  {
   "cell_type": "code",
   "execution_count": 146,
   "id": "508e62fa",
   "metadata": {},
   "outputs": [],
   "source": [
    "import joblib\n",
    "import os\n"
   ]
  },
  {
   "cell_type": "code",
   "execution_count": 148,
   "id": "d18caaaf",
   "metadata": {},
   "outputs": [
    {
     "name": "stdout",
     "output_type": "stream",
     "text": [
      "********** naive_bayes **********\n",
      "Wall time: 7.51 ms\n",
      "F1 Score (Positive Class): 0.9548302011210024\n",
      "Model Size: 82196 Bytes\n",
      "********** decision_tree **********\n",
      "Wall time: 8.53 ms\n",
      "F1 Score (Positive Class): 0.9403884795713329\n",
      "Model Size: 223866 Bytes\n",
      "********** logistic_regression **********\n",
      "Wall time: 11.1 ms\n",
      "F1 Score (Positive Class): 0.9360525406152783\n",
      "Model Size: 58454 Bytes\n"
     ]
    }
   ],
   "source": [
    "save_dir = r\"C:\\Users\\HP\\Downloads\\sentimental_analysis_internship\\models\"\n",
    "\n",
    "for name, model in best_models.items():\n",
    "    print(\"*\" * 10, name, \"*\" * 10)\n",
    "    \n",
    "    joblib.dump(model, os.path.join(save_dir, f'{name}.pkl'))\n",
    "    loaded_model = joblib.load(os.path.join(save_dir, f'{name}.pkl'))\n",
    "    \n",
    "    %time y_test_pred = loaded_model.predict(x_test)\n",
    "\n",
    "    f1 = f1_score(y_test, y_test_pred, pos_label='Positive')\n",
    "\n",
    "    print(\"F1 Score (Positive Class):\", f1)\n",
    "    print(\"Model Size:\", os.path.getsize(os.path.join(save_dir, f'{name}.pkl')), \"Bytes\")\n"
   ]
  },
  {
   "cell_type": "code",
   "execution_count": 149,
   "id": "96cd7de8",
   "metadata": {},
   "outputs": [
    {
     "name": "stdout",
     "output_type": "stream",
     "text": [
      "Error loading the model: [Errno 2] No such file or directory: 'D:\\\\flip_gan\\\\best models'\n"
     ]
    }
   ],
   "source": [
    "import joblib\n",
    "\n",
    "filepath = r'D:\\flip_gan\\best models'\n",
    "\n",
    "try:\n",
    "    model = joblib.load(filepath)\n",
    "    print(\"Model loaded successfully.\")\n",
    "except Exception as e:\n",
    "    print(f\"Error loading the model: {e}\")\n"
   ]
  },
  {
   "cell_type": "code",
   "execution_count": null,
   "id": "63e86683",
   "metadata": {},
   "outputs": [],
   "source": []
  },
  {
   "cell_type": "code",
   "execution_count": null,
   "id": "6c5c0892",
   "metadata": {},
   "outputs": [],
   "source": []
  },
  {
   "cell_type": "code",
   "execution_count": null,
   "id": "7c73e376",
   "metadata": {},
   "outputs": [],
   "source": []
  },
  {
   "cell_type": "code",
   "execution_count": null,
   "id": "4ea22da3",
   "metadata": {},
   "outputs": [],
   "source": []
  },
  {
   "cell_type": "code",
   "execution_count": null,
   "id": "524b9907",
   "metadata": {},
   "outputs": [],
   "source": []
  }
 ],
 "metadata": {
  "kernelspec": {
   "display_name": "Python 3 (ipykernel)",
   "language": "python",
   "name": "python3"
  },
  "language_info": {
   "codemirror_mode": {
    "name": "ipython",
    "version": 3
   },
   "file_extension": ".py",
   "mimetype": "text/x-python",
   "name": "python",
   "nbconvert_exporter": "python",
   "pygments_lexer": "ipython3",
   "version": "3.9.13"
  }
 },
 "nbformat": 4,
 "nbformat_minor": 5
}
